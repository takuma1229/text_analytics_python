{
 "cells": [
  {
   "cell_type": "code",
   "execution_count": 2,
   "metadata": {},
   "outputs": [
    {
     "name": "stdout",
     "output_type": "stream",
     "text": [
      "--2022-03-27 19:43:47--  https://www.aozora.gr.jp/cards/001779/files/58486_ruby_68458.zip\n",
      "www.aozora.gr.jp (www.aozora.gr.jp) をDNSに問いあわせています... 59.106.13.115\n",
      "www.aozora.gr.jp (www.aozora.gr.jp)|59.106.13.115|:443 に接続しています... 接続しました。\n",
      "HTTP による接続要求を送信しました、応答を待っています... 200 OK\n",
      "長さ: 135270 (132K) [application/zip]\n",
      "`58486_ruby_68458.zip' に保存中\n",
      "\n",
      "58486_ruby_68458.zi 100%[===================>] 132.10K  --.-KB/s 時間 0.05s    \n",
      "\n",
      "2022-03-27 19:43:47 (2.40 MB/s) - `58486_ruby_68458.zip' へ保存完了 [135270/135270]\n",
      "\n",
      "Archive:  58486_ruby_68458.zip\n",
      "Made with MacWinZipper (http://tidajapan.com/macwinzipper)\n",
      "  inflating: text/kageotoko.txt      \n"
     ]
    }
   ],
   "source": [
    "!wget -c https://www.aozora.gr.jp/cards/001779/files/58486_ruby_68458.zip\n",
    "!mkdir -p text\n",
    "!unzip -d text -o 58486_ruby_68458.zip\n",
    "!rm -f 58486_ruby_68458.zip\n",
    "# !brew link coreutils"
   ]
  },
  {
   "cell_type": "code",
   "execution_count": 3,
   "metadata": {},
   "outputs": [],
   "source": [
    "import re\n",
    "\n",
    "input_fn = 'text/kageotoko.txt'\n",
    "output_fn = 'text/kageotoko.stripruby.txt'\n",
    "\n",
    "with open(input_fn, encoding='shift-jis') as fin, open(output_fn, mode='w') as fout:\n",
    "    for line in fin:\n",
    "        fout.write(re.sub(r'《[^》]+》|［[^］]+］', '', line))"
   ]
  },
  {
   "cell_type": "code",
   "execution_count": 4,
   "metadata": {},
   "outputs": [
    {
     "name": "stdout",
     "output_type": "stream",
     "text": [
      "text/kageotoko.stripruby.txt\n"
     ]
    }
   ],
   "source": [
    "print(output_fn)"
   ]
  },
  {
   "cell_type": "code",
   "execution_count": 5,
   "metadata": {},
   "outputs": [],
   "source": [
    "# !tail -n +18 text/kageotoko.stripruby.txt | head -n -14 > text/kageotoko.corpus.txt\n",
    "# !head text/kageotoko.corpus.txt\n",
    "!sed '1,17d' text/kageotoko.stripruby.txt | tail -r | sed '1,14d' | tail -r > text/kageotoko.corpus.txt"
   ]
  },
  {
   "cell_type": "code",
   "execution_count": 50,
   "metadata": {},
   "outputs": [
    {
     "name": "stdout",
     "output_type": "stream",
     "text": [
      "さて、私が今夜いただくのは、お前の魂です。\n",
      "さて\n",
      "、\n",
      "私\n",
      "が\n",
      "今夜\n",
      "いただく\n",
      "の\n",
      "は\n",
      "、\n",
      "お前\n",
      "の\n",
      "魂\n",
      "です\n",
      "。\n"
     ]
    }
   ],
   "source": [
    "import sys\n",
    "sys.path.append('/Users/ruinz/.pyenv/versions/3.9.5/lib/python3.9/site-packages')\n",
    "import spacy \n",
    "\n",
    "nlp = spacy.load(\"ja_ginza\")\n",
    "text = \"さて、私が今夜いただくのは、お前の魂です。\"\n",
    "doc = nlp(text)\n",
    "print(doc)\n",
    "for token in doc:\n",
    "  print(token)"
   ]
  },
  {
   "cell_type": "code",
   "execution_count": 7,
   "metadata": {},
   "outputs": [
    {
     "name": "stdout",
     "output_type": "stream",
     "text": [
      "昨日\t昨日\tNOUN\t名詞-普通名詞-副詞可能\n",
      "の\tの\tADP\t助詞-格助詞\n",
      "天気\t天気\tNOUN\t名詞-普通名詞-一般\n",
      "は\tは\tADP\t助詞-係助詞\n",
      "雨\t雨\tNOUN\t名詞-普通名詞-一般\n",
      "でし\tです\tAUX\t助動詞\n",
      "た\tた\tAUX\t助動詞\n",
      "。\t。\tPUNCT\t補助記号-句点\n",
      "晴れ\t晴れる\tVERB\t動詞-一般\n",
      "て\tて\tSCONJ\t助詞-接続助詞\n",
      "ほしかっ\tほしい\tAUX\t形容詞-非自立可能\n",
      "た\tた\tAUX\t助動詞\n",
      "。\t。\tPUNCT\t補助記号-句点\n"
     ]
    }
   ],
   "source": [
    "text = \"昨日の天気は雨でした。晴れてほしかった。\"\n",
    "doc = nlp(text)\n",
    "\n",
    "for token in doc:\n",
    "    print(f\"{token.text}\\t{token.lemma_}\\t{token.pos_}\\t{token.tag_}\")\n",
    "\n",
    "#分割された単語には，出現形(text)，原形(lemma)，品詞(tag)が属性として付与される1．\n"
   ]
  },
  {
   "cell_type": "code",
   "execution_count": 8,
   "metadata": {},
   "outputs": [
    {
     "name": "stdout",
     "output_type": "stream",
     "text": [
      "断末魔 の 雄 獅子\n",
      "\n",
      "　 三十二 、 三 歳 に 見える やせ型 の 男 が 、 張 ホテル の 玄関 を はいっ て 、 カウンター の うしろ の 支配人 室 へ 踏みこん で いっ た 。\n",
      "　 ずんぐり と 背 が 低く て 丸々 と 太っ た ちょびひげ の 支配人 が デスク に 向かっ て 帳簿 を いじくっ て い た 。 そば の 灰 ざら に のせ た 半分 ほど に なっ た 葉巻き から 、 細い 紫色 の 煙 が ほとんど まっすぐ に 立ちのぼっ て い た 。 ハバナ の かおり が 何 か 猥 ※ な 感じ で 漂っ て い た 。\n",
      "「 来 て いる ね ？ 」\n",
      "　 やせ型 の 男 が ニヤッ と 笑っ て たずね た 。\n",
      "「 うん 、 来 て いる 。 もう 始まっ て いる ころ だ よ 」\n",
      "「 じゃあ 、 あの へや へ 行く よ 」\n",
      "「 いい とも 、 見つかり っこ は ない が 、 せいぜい 用心 し て ね 」\n",
      "　 やせ型 の 男 は ネズミ色 の セビロ を 着 て 、 ネズミ色 の ワイシャツ 、 ネズミ色 の ネクタイ 、 くつ まで ネズミ色 の もの を はい て い た 。 どんな 背景 の 前 で も 最も 目だた ない 服装 で あっ た 。 かれ は まったく 足音 を たて ない で 階段 を 駆け上がり 、 二 階 の ずっと 奥まっ た 一室 の ドア を そっと ひらい て 、 中 に すべりこむ と 、 電灯 も つけ ず 、 一方 の 壁 に ある 押し入れ の 戸 を 用意 の カギ で ひらき 、 その 中 へ 身 を 隠し た 。\n"
     ]
    }
   ],
   "source": [
    "input_fn = 'text/kageotoko.corpus.txt'\n",
    "output_fn = 'text/kageotoko.wakati.txt'\n",
    "\n",
    "with open(input_fn, 'r') as fin, open(output_fn, 'w') as fout:\n",
    "    for line in fin:\n",
    "        tokens = [token.text for token in nlp(line.rstrip())]\n",
    "        fout.write(' '.join(tokens)+'\\n')\n",
    "\n",
    "!head text/kageotoko.wakati.txt\n",
    "\n",
    "\n"
   ]
  },
  {
   "cell_type": "markdown",
   "metadata": {},
   "source": [
    "## 単語の出現頻度を数えてみよう．活用する語の活用形を別々に数えるのではなく，原形で集計する．"
   ]
  },
  {
   "cell_type": "code",
   "execution_count": 13,
   "metadata": {},
   "outputs": [],
   "source": [
    "from collections import Counter\n",
    "\n",
    "include_pos = ('NOUN', 'VERB', 'ADJ')\n",
    "stopwords = ('する', 'ある', 'ない', 'いう', 'もの', 'こと', 'よう', 'なる', 'ほう')"
   ]
  },
  {
   "cell_type": "code",
   "execution_count": 20,
   "metadata": {},
   "outputs": [
    {
     "name": "stdout",
     "output_type": "stream",
     "text": [
      "156052\n"
     ]
    }
   ],
   "source": [
    "with open(input_fn, 'r') as f:\n",
    "    text = f.read()\n",
    "\n",
    "print(len(text))\n",
    "text = text[:15000]"
   ]
  },
  {
   "cell_type": "code",
   "execution_count": 21,
   "metadata": {},
   "outputs": [
    {
     "name": "stdout",
     "output_type": "stream",
     "text": [
      "count word\n",
      "   65 \n",
      "　\n",
      "   49 男\n",
      "   25 人間\n",
      "   18 中\n",
      "   18 目\n",
      "   18 顔\n",
      "   17 探求\n",
      "   16 シャツ\n",
      "   15 見る\n",
      "   15 持つ\n"
     ]
    }
   ],
   "source": [
    "\n",
    "\n",
    "doc = nlp(text)\n",
    "counter = Counter(token.lemma_ for token in doc\n",
    "                  if token.pos_ in include_pos and token.lemma_ not in stopwords)\n",
    "\n",
    "print('count word')\n",
    "for word, count in counter.most_common(10):\n",
    "     print(f'{count:>5} {word}')"
   ]
  },
  {
   "cell_type": "markdown",
   "metadata": {},
   "source": [
    "## 単語の共起を調べる"
   ]
  },
  {
   "cell_type": "code",
   "execution_count": 34,
   "metadata": {},
   "outputs": [],
   "source": [
    "import spacy\n",
    "\n",
    "input_fn = 'text/kageotoko.corpus.txt'\n",
    "\n",
    "include_pos = ('NOUN', 'VERB', 'ADJ')\n",
    "stopwords = ('する', 'ある', 'ない', 'いう', 'もの', 'こと', 'よう', 'なる', 'ほう', 'いる', 'くる')\n",
    "\n",
    "nlp = spacy.load(\"ja_ginza\")"
   ]
  },
  {
   "cell_type": "code",
   "execution_count": 35,
   "metadata": {},
   "outputs": [],
   "source": [
    "def extract_words(sent, pos_tags, stopwords):\n",
    "    words = [token.lemma_ for token in sent\n",
    "             if token.pos_ in pos_tags and token.lemma_ not in stopwords]\n",
    "    return words"
   ]
  },
  {
   "cell_type": "code",
   "execution_count": 36,
   "metadata": {},
   "outputs": [],
   "source": [
    "import numpy as np\n",
    "from sklearn.feature_extraction.text import CountVectorizer\n",
    "\n",
    "def count_cooccurrence(sents, token_length='{2,}'):\n",
    "    token_pattern=f'\\\\b\\\\w{token_length}\\\\b'\n",
    "    count_model = CountVectorizer(token_pattern=token_pattern)\n",
    "\n",
    "    X = count_model.fit_transform(sents)\n",
    "    words = count_model.get_feature_names_out()\n",
    "    word_counts = np.asarray(X.sum(axis=0)).reshape(-1)\n",
    "\n",
    "    X[X > 0] = 1 # limit to 1 occurrence in a document.\n",
    "    Xc = (X.T * X) # this is co-occurrence matrix in sparse csr format\n",
    "    return words, word_counts, Xc, X"
   ]
  },
  {
   "cell_type": "code",
   "execution_count": 37,
   "metadata": {},
   "outputs": [],
   "source": [
    "with open(input_fn) as f:\n",
    "    text = f.read()\n",
    "\n",
    "text = text[:15000]\n",
    "\n",
    "doc = nlp(text)\n",
    "sents = [' '.join(extract_words(sent, include_pos, stopwords))\n",
    "          for sent in doc.sents]\n",
    "words, _, Xc, X = count_cooccurrence(sents)"
   ]
  },
  {
   "cell_type": "code",
   "execution_count": 38,
   "metadata": {},
   "outputs": [
    {
     "name": "stdout",
     "output_type": "stream",
     "text": [
      "  7 (人間, 探求)\n",
      "  6 (シャツ, ズボン)\n",
      "  5 (やせ型, 支配人)\n",
      "  4 (使い, 獅子)\n",
      "  3 (くちびる, 赤い)\n",
      "  3 (つく, シャツ)\n",
      "  3 (やせ型, 押し入れ)\n",
      "  3 (やみ, 肺病)\n",
      "  3 (やる, 見る)\n",
      "  3 (よる, 場合)\n"
     ]
    }
   ],
   "source": [
    "from collections import Counter\n",
    "counter = Counter()\n",
    "\n",
    "for i, j in zip(*Xc.nonzero()):\n",
    "    if i >= j:\n",
    "        continue\n",
    "    counter[(i,j)] += Xc[i,j]\n",
    "\n",
    "for (i,j), c in counter.most_common(10):\n",
    "    print('{:>3d} ({}, {})'.format(c, words[i], words[j]))"
   ]
  },
  {
   "cell_type": "code",
   "execution_count": 40,
   "metadata": {},
   "outputs": [
    {
     "name": "stdout",
     "output_type": "stream",
     "text": [
      "    0: 断末魔の雄獅子\n",
      "\n",
      "　三十二、三歳に見えるやせ型の男が、張ホテルの玄関をはいって、カウンターのうしろの支配人室へ踏みこんでいった。\n"
     ]
    }
   ],
   "source": [
    "def find_sentence_by_cooccurrence(X, idxs):\n",
    "    occur_flags = (X[:,idxs[0]] > 0)\n",
    "    for idx in idxs[1:]:\n",
    "        occur_flags = occur_flags.multiply(X[:,idx] > 0)\n",
    "    return occur_flags.nonzero()[0]\n",
    "\n",
    "sents_orig = list(doc.sents)\n",
    "words_lookup = {word: index for index, word in enumerate(words)}\n",
    "idxs = [words_lookup[word] for word in ['カウンター', '支配人']]\n",
    "\n",
    "for i in find_sentence_by_cooccurrence(X, idxs):\n",
    "    print(\"{:>5d}: {}\".format(i, sents_orig[i]))"
   ]
  },
  {
   "cell_type": "markdown",
   "metadata": {},
   "source": [
    "## 係り受け"
   ]
  },
  {
   "cell_type": "code",
   "execution_count": 41,
   "metadata": {},
   "outputs": [],
   "source": [
    "import pandas as pd\n",
    "import spacy\n",
    "\n",
    "nlp = spacy.load('ja_ginza')\n",
    "text = \"昨日の天気は雨でした。晴れてほしかった。\""
   ]
  },
  {
   "cell_type": "code",
   "execution_count": 49,
   "metadata": {},
   "outputs": [
    {
     "name": "stdout",
     "output_type": "stream",
     "text": [
      "this is a sentence.\n"
     ]
    },
    {
     "data": {
      "text/html": "<div>\n<style scoped>\n    .dataframe tbody tr th:only-of-type {\n        vertical-align: middle;\n    }\n\n    .dataframe tbody tr th {\n        vertical-align: top;\n    }\n\n    .dataframe thead th {\n        text-align: right;\n    }\n</style>\n<table border=\"1\" class=\"dataframe\">\n  <thead>\n    <tr style=\"text-align: right;\">\n      <th></th>\n      <th>text</th>\n      <th>lemma_</th>\n      <th>pos_</th>\n      <th>tag_</th>\n      <th>dep_</th>\n      <th>children</th>\n    </tr>\n  </thead>\n  <tbody>\n    <tr>\n      <th>0</th>\n      <td>this</td>\n      <td>this</td>\n      <td>PRON</td>\n      <td>DT</td>\n      <td>nsubj</td>\n      <td>[]</td>\n    </tr>\n    <tr>\n      <th>1</th>\n      <td>is</td>\n      <td>be</td>\n      <td>AUX</td>\n      <td>VBZ</td>\n      <td>ROOT</td>\n      <td>[this, sentence, .]</td>\n    </tr>\n    <tr>\n      <th>2</th>\n      <td>a</td>\n      <td>a</td>\n      <td>DET</td>\n      <td>DT</td>\n      <td>det</td>\n      <td>[]</td>\n    </tr>\n    <tr>\n      <th>3</th>\n      <td>sentence</td>\n      <td>sentence</td>\n      <td>NOUN</td>\n      <td>NN</td>\n      <td>attr</td>\n      <td>[a]</td>\n    </tr>\n    <tr>\n      <th>4</th>\n      <td>.</td>\n      <td>.</td>\n      <td>PUNCT</td>\n      <td>.</td>\n      <td>punct</td>\n      <td>[]</td>\n    </tr>\n  </tbody>\n</table>\n</div>",
      "text/plain": "       text    lemma_   pos_ tag_   dep_             children\n0      this      this   PRON   DT  nsubj                   []\n1        is        be    AUX  VBZ   ROOT  [this, sentence, .]\n2         a         a    DET   DT    det                   []\n3  sentence  sentence   NOUN   NN   attr                  [a]\n4         .         .  PUNCT    .  punct                   []"
     },
     "metadata": {},
     "output_type": "display_data"
    }
   ],
   "source": [
    "doc = nlp(text)\n",
    "print(doc)\n",
    "\n",
    "df = pd.DataFrame({\n",
    "    'text': token.text,\n",
    "    'lemma_': token.lemma_,\n",
    "    'pos_': token.pos_,\n",
    "    'tag_': token.tag_,\n",
    "    'dep_': token.dep_,\n",
    "    'children': list(token.children)\n",
    "    } for token in doc)\n",
    "\n",
    "display(df)"
   ]
  },
  {
   "cell_type": "code",
   "execution_count": 43,
   "metadata": {},
   "outputs": [
    {
     "data": {
      "text/html": "<span class=\"tex2jax_ignore\"><svg xmlns=\"http://www.w3.org/2000/svg\" xmlns:xlink=\"http://www.w3.org/1999/xlink\" xml:lang=\"ja\" id=\"0c4d22beb7524d408dd90d13489ae8a0-0\" class=\"displacy\" width=\"1975\" height=\"399.5\" direction=\"ltr\" style=\"max-width: none; height: 399.5px; color: #000000; background: #ffffff; font-family: Arial; direction: ltr\">\n<text class=\"displacy-token\" fill=\"currentColor\" text-anchor=\"middle\" y=\"309.5\">\n    <tspan class=\"displacy-word\" fill=\"currentColor\" x=\"50\">昨日</tspan>\n    <tspan class=\"displacy-tag\" dy=\"2em\" fill=\"currentColor\" x=\"50\">NOUN</tspan>\n</text>\n\n<text class=\"displacy-token\" fill=\"currentColor\" text-anchor=\"middle\" y=\"309.5\">\n    <tspan class=\"displacy-word\" fill=\"currentColor\" x=\"225\">の</tspan>\n    <tspan class=\"displacy-tag\" dy=\"2em\" fill=\"currentColor\" x=\"225\">ADP</tspan>\n</text>\n\n<text class=\"displacy-token\" fill=\"currentColor\" text-anchor=\"middle\" y=\"309.5\">\n    <tspan class=\"displacy-word\" fill=\"currentColor\" x=\"400\">天気</tspan>\n    <tspan class=\"displacy-tag\" dy=\"2em\" fill=\"currentColor\" x=\"400\">NOUN</tspan>\n</text>\n\n<text class=\"displacy-token\" fill=\"currentColor\" text-anchor=\"middle\" y=\"309.5\">\n    <tspan class=\"displacy-word\" fill=\"currentColor\" x=\"575\">は</tspan>\n    <tspan class=\"displacy-tag\" dy=\"2em\" fill=\"currentColor\" x=\"575\">ADP</tspan>\n</text>\n\n<text class=\"displacy-token\" fill=\"currentColor\" text-anchor=\"middle\" y=\"309.5\">\n    <tspan class=\"displacy-word\" fill=\"currentColor\" x=\"750\">雨</tspan>\n    <tspan class=\"displacy-tag\" dy=\"2em\" fill=\"currentColor\" x=\"750\">NOUN</tspan>\n</text>\n\n<text class=\"displacy-token\" fill=\"currentColor\" text-anchor=\"middle\" y=\"309.5\">\n    <tspan class=\"displacy-word\" fill=\"currentColor\" x=\"925\">でし</tspan>\n    <tspan class=\"displacy-tag\" dy=\"2em\" fill=\"currentColor\" x=\"925\">AUX</tspan>\n</text>\n\n<text class=\"displacy-token\" fill=\"currentColor\" text-anchor=\"middle\" y=\"309.5\">\n    <tspan class=\"displacy-word\" fill=\"currentColor\" x=\"1100\">た。</tspan>\n    <tspan class=\"displacy-tag\" dy=\"2em\" fill=\"currentColor\" x=\"1100\">AUX</tspan>\n</text>\n\n<text class=\"displacy-token\" fill=\"currentColor\" text-anchor=\"middle\" y=\"309.5\">\n    <tspan class=\"displacy-word\" fill=\"currentColor\" x=\"1275\">晴れ</tspan>\n    <tspan class=\"displacy-tag\" dy=\"2em\" fill=\"currentColor\" x=\"1275\">VERB</tspan>\n</text>\n\n<text class=\"displacy-token\" fill=\"currentColor\" text-anchor=\"middle\" y=\"309.5\">\n    <tspan class=\"displacy-word\" fill=\"currentColor\" x=\"1450\">て</tspan>\n    <tspan class=\"displacy-tag\" dy=\"2em\" fill=\"currentColor\" x=\"1450\">SCONJ</tspan>\n</text>\n\n<text class=\"displacy-token\" fill=\"currentColor\" text-anchor=\"middle\" y=\"309.5\">\n    <tspan class=\"displacy-word\" fill=\"currentColor\" x=\"1625\">ほしかっ</tspan>\n    <tspan class=\"displacy-tag\" dy=\"2em\" fill=\"currentColor\" x=\"1625\">AUX</tspan>\n</text>\n\n<text class=\"displacy-token\" fill=\"currentColor\" text-anchor=\"middle\" y=\"309.5\">\n    <tspan class=\"displacy-word\" fill=\"currentColor\" x=\"1800\">た。</tspan>\n    <tspan class=\"displacy-tag\" dy=\"2em\" fill=\"currentColor\" x=\"1800\">AUX</tspan>\n</text>\n\n<g class=\"displacy-arrow\">\n    <path class=\"displacy-arc\" id=\"arrow-0c4d22beb7524d408dd90d13489ae8a0-0-0\" stroke-width=\"2px\" d=\"M70,264.5 C70,89.5 395.0,89.5 395.0,264.5\" fill=\"none\" stroke=\"currentColor\"/>\n    <text dy=\"1.25em\" style=\"font-size: 0.8em; letter-spacing: 1px\">\n        <textPath xlink:href=\"#arrow-0c4d22beb7524d408dd90d13489ae8a0-0-0\" class=\"displacy-label\" startOffset=\"50%\" side=\"left\" fill=\"currentColor\" text-anchor=\"middle\">nmod</textPath>\n    </text>\n    <path class=\"displacy-arrowhead\" d=\"M70,266.5 L62,254.5 78,254.5\" fill=\"currentColor\"/>\n</g>\n\n<g class=\"displacy-arrow\">\n    <path class=\"displacy-arc\" id=\"arrow-0c4d22beb7524d408dd90d13489ae8a0-0-1\" stroke-width=\"2px\" d=\"M70,264.5 C70,177.0 215.0,177.0 215.0,264.5\" fill=\"none\" stroke=\"currentColor\"/>\n    <text dy=\"1.25em\" style=\"font-size: 0.8em; letter-spacing: 1px\">\n        <textPath xlink:href=\"#arrow-0c4d22beb7524d408dd90d13489ae8a0-0-1\" class=\"displacy-label\" startOffset=\"50%\" side=\"left\" fill=\"currentColor\" text-anchor=\"middle\">case</textPath>\n    </text>\n    <path class=\"displacy-arrowhead\" d=\"M215.0,266.5 L223.0,254.5 207.0,254.5\" fill=\"currentColor\"/>\n</g>\n\n<g class=\"displacy-arrow\">\n    <path class=\"displacy-arc\" id=\"arrow-0c4d22beb7524d408dd90d13489ae8a0-0-2\" stroke-width=\"2px\" d=\"M420,264.5 C420,89.5 745.0,89.5 745.0,264.5\" fill=\"none\" stroke=\"currentColor\"/>\n    <text dy=\"1.25em\" style=\"font-size: 0.8em; letter-spacing: 1px\">\n        <textPath xlink:href=\"#arrow-0c4d22beb7524d408dd90d13489ae8a0-0-2\" class=\"displacy-label\" startOffset=\"50%\" side=\"left\" fill=\"currentColor\" text-anchor=\"middle\">nsubj</textPath>\n    </text>\n    <path class=\"displacy-arrowhead\" d=\"M420,266.5 L412,254.5 428,254.5\" fill=\"currentColor\"/>\n</g>\n\n<g class=\"displacy-arrow\">\n    <path class=\"displacy-arc\" id=\"arrow-0c4d22beb7524d408dd90d13489ae8a0-0-3\" stroke-width=\"2px\" d=\"M420,264.5 C420,177.0 565.0,177.0 565.0,264.5\" fill=\"none\" stroke=\"currentColor\"/>\n    <text dy=\"1.25em\" style=\"font-size: 0.8em; letter-spacing: 1px\">\n        <textPath xlink:href=\"#arrow-0c4d22beb7524d408dd90d13489ae8a0-0-3\" class=\"displacy-label\" startOffset=\"50%\" side=\"left\" fill=\"currentColor\" text-anchor=\"middle\">case</textPath>\n    </text>\n    <path class=\"displacy-arrowhead\" d=\"M565.0,266.5 L573.0,254.5 557.0,254.5\" fill=\"currentColor\"/>\n</g>\n\n<g class=\"displacy-arrow\">\n    <path class=\"displacy-arc\" id=\"arrow-0c4d22beb7524d408dd90d13489ae8a0-0-4\" stroke-width=\"2px\" d=\"M770,264.5 C770,177.0 915.0,177.0 915.0,264.5\" fill=\"none\" stroke=\"currentColor\"/>\n    <text dy=\"1.25em\" style=\"font-size: 0.8em; letter-spacing: 1px\">\n        <textPath xlink:href=\"#arrow-0c4d22beb7524d408dd90d13489ae8a0-0-4\" class=\"displacy-label\" startOffset=\"50%\" side=\"left\" fill=\"currentColor\" text-anchor=\"middle\">cop</textPath>\n    </text>\n    <path class=\"displacy-arrowhead\" d=\"M915.0,266.5 L923.0,254.5 907.0,254.5\" fill=\"currentColor\"/>\n</g>\n\n<g class=\"displacy-arrow\">\n    <path class=\"displacy-arc\" id=\"arrow-0c4d22beb7524d408dd90d13489ae8a0-0-5\" stroke-width=\"2px\" d=\"M770,264.5 C770,89.5 1095.0,89.5 1095.0,264.5\" fill=\"none\" stroke=\"currentColor\"/>\n    <text dy=\"1.25em\" style=\"font-size: 0.8em; letter-spacing: 1px\">\n        <textPath xlink:href=\"#arrow-0c4d22beb7524d408dd90d13489ae8a0-0-5\" class=\"displacy-label\" startOffset=\"50%\" side=\"left\" fill=\"currentColor\" text-anchor=\"middle\">aux</textPath>\n    </text>\n    <path class=\"displacy-arrowhead\" d=\"M1095.0,266.5 L1103.0,254.5 1087.0,254.5\" fill=\"currentColor\"/>\n</g>\n\n<g class=\"displacy-arrow\">\n    <path class=\"displacy-arc\" id=\"arrow-0c4d22beb7524d408dd90d13489ae8a0-0-6\" stroke-width=\"2px\" d=\"M1295,264.5 C1295,177.0 1440.0,177.0 1440.0,264.5\" fill=\"none\" stroke=\"currentColor\"/>\n    <text dy=\"1.25em\" style=\"font-size: 0.8em; letter-spacing: 1px\">\n        <textPath xlink:href=\"#arrow-0c4d22beb7524d408dd90d13489ae8a0-0-6\" class=\"displacy-label\" startOffset=\"50%\" side=\"left\" fill=\"currentColor\" text-anchor=\"middle\">mark</textPath>\n    </text>\n    <path class=\"displacy-arrowhead\" d=\"M1440.0,266.5 L1448.0,254.5 1432.0,254.5\" fill=\"currentColor\"/>\n</g>\n\n<g class=\"displacy-arrow\">\n    <path class=\"displacy-arc\" id=\"arrow-0c4d22beb7524d408dd90d13489ae8a0-0-7\" stroke-width=\"2px\" d=\"M1470,264.5 C1470,177.0 1615.0,177.0 1615.0,264.5\" fill=\"none\" stroke=\"currentColor\"/>\n    <text dy=\"1.25em\" style=\"font-size: 0.8em; letter-spacing: 1px\">\n        <textPath xlink:href=\"#arrow-0c4d22beb7524d408dd90d13489ae8a0-0-7\" class=\"displacy-label\" startOffset=\"50%\" side=\"left\" fill=\"currentColor\" text-anchor=\"middle\">fixed</textPath>\n    </text>\n    <path class=\"displacy-arrowhead\" d=\"M1615.0,266.5 L1623.0,254.5 1607.0,254.5\" fill=\"currentColor\"/>\n</g>\n\n<g class=\"displacy-arrow\">\n    <path class=\"displacy-arc\" id=\"arrow-0c4d22beb7524d408dd90d13489ae8a0-0-8\" stroke-width=\"2px\" d=\"M1295,264.5 C1295,2.0 1800.0,2.0 1800.0,264.5\" fill=\"none\" stroke=\"currentColor\"/>\n    <text dy=\"1.25em\" style=\"font-size: 0.8em; letter-spacing: 1px\">\n        <textPath xlink:href=\"#arrow-0c4d22beb7524d408dd90d13489ae8a0-0-8\" class=\"displacy-label\" startOffset=\"50%\" side=\"left\" fill=\"currentColor\" text-anchor=\"middle\">aux</textPath>\n    </text>\n    <path class=\"displacy-arrowhead\" d=\"M1800.0,266.5 L1808.0,254.5 1792.0,254.5\" fill=\"currentColor\"/>\n</g>\n</svg></span>",
      "text/plain": "<IPython.core.display.HTML object>"
     },
     "metadata": {},
     "output_type": "display_data"
    }
   ],
   "source": [
    "svg = spacy.displacy.render(doc, style=\"dep\")"
   ]
  },
  {
   "cell_type": "code",
   "execution_count": 46,
   "metadata": {},
   "outputs": [],
   "source": [
    "# import ginza.command_line\n",
    "# !pip install -U ginza\n",
    "\n",
    "# for sent in ginza.command_line.analyze(nlp, None, \"cabocha\", text):\n",
    "#     for line in sent:\n",
    "#         print(line)"
   ]
  },
  {
   "cell_type": "markdown",
   "metadata": {},
   "source": [
    "##　英語の分析"
   ]
  },
  {
   "cell_type": "code",
   "execution_count": 48,
   "metadata": {},
   "outputs": [
    {
     "name": "stdout",
     "output_type": "stream",
     "text": [
      "this is a sentence.\n",
      "this\n",
      "is\n",
      "a\n",
      "sentence\n",
      ".\n"
     ]
    }
   ],
   "source": [
    "nlp = spacy.load(\"en_core_web_sm\")\n",
    "text = \"this is a sentence.\"\n",
    "doc = nlp(text)\n",
    "print(doc)\n",
    "for token in doc:\n",
    "  print(token)"
   ]
  },
  {
   "cell_type": "code",
   "execution_count": null,
   "metadata": {},
   "outputs": [],
   "source": []
  },
  {
   "cell_type": "code",
   "execution_count": null,
   "metadata": {},
   "outputs": [],
   "source": []
  },
  {
   "cell_type": "code",
   "execution_count": null,
   "metadata": {},
   "outputs": [],
   "source": []
  },
  {
   "cell_type": "code",
   "execution_count": null,
   "metadata": {},
   "outputs": [],
   "source": []
  },
  {
   "cell_type": "code",
   "execution_count": null,
   "metadata": {},
   "outputs": [],
   "source": []
  },
  {
   "cell_type": "code",
   "execution_count": null,
   "metadata": {},
   "outputs": [],
   "source": []
  },
  {
   "cell_type": "code",
   "execution_count": null,
   "metadata": {},
   "outputs": [],
   "source": []
  },
  {
   "cell_type": "code",
   "execution_count": null,
   "metadata": {},
   "outputs": [],
   "source": []
  },
  {
   "cell_type": "code",
   "execution_count": null,
   "metadata": {},
   "outputs": [],
   "source": []
  },
  {
   "cell_type": "code",
   "execution_count": null,
   "metadata": {},
   "outputs": [],
   "source": []
  },
  {
   "cell_type": "code",
   "execution_count": null,
   "metadata": {},
   "outputs": [],
   "source": []
  },
  {
   "cell_type": "code",
   "execution_count": null,
   "metadata": {},
   "outputs": [],
   "source": []
  },
  {
   "cell_type": "code",
   "execution_count": null,
   "metadata": {},
   "outputs": [],
   "source": []
  }
 ],
 "metadata": {
  "kernelspec": {
   "display_name": "Python 3.9.10 64-bit",
   "name": "python3910jvsc74a57bd0ac2eaa0ea0ebeafcc7822e65e46aa9d4f966f30b695406963e145ea4a91cd4fc"
  },
  "language_info": {
   "name": "python",
   "version": ""
  },
  "metadata": {
   "interpreter": {
    "hash": "ac2eaa0ea0ebeafcc7822e65e46aa9d4f966f30b695406963e145ea4a91cd4fc"
   }
  },
  "orig_nbformat": 2
 },
 "nbformat": 4,
 "nbformat_minor": 2
}