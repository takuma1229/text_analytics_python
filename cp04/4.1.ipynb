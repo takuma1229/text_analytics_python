{
 "cells": [
  {
   "cell_type": "code",
   "execution_count": 11,
   "metadata": {},
   "outputs": [
    {
     "name": "stdout",
     "output_type": "stream",
     "text": [
      "--2022-03-27 01:57:07--  https://www.aozora.gr.jp/cards/001779/files/58486_ruby_68458.zip\n",
      "www.aozora.gr.jp (www.aozora.gr.jp) をDNSに問いあわせています... 59.106.13.115\n",
      "www.aozora.gr.jp (www.aozora.gr.jp)|59.106.13.115|:443 に接続しています... 接続しました。\n",
      "HTTP による接続要求を送信しました、応答を待っています... 200 OK\n",
      "長さ: 135270 (132K) [application/zip]\n",
      "`58486_ruby_68458.zip' に保存中\n",
      "\n",
      "58486_ruby_68458.zi 100%[===================>] 132.10K  --.-KB/s 時間 0.1s     \n",
      "\n",
      "2022-03-27 01:57:07 (940 KB/s) - `58486_ruby_68458.zip' へ保存完了 [135270/135270]\n",
      "\n",
      "Archive:  58486_ruby_68458.zip\n",
      "Made with MacWinZipper (http://tidajapan.com/macwinzipper)\n",
      "  inflating: text/kageotoko.txt      \n"
     ]
    }
   ],
   "source": [
    "!wget -c https://www.aozora.gr.jp/cards/001779/files/58486_ruby_68458.zip\n",
    "!mkdir -p text\n",
    "!unzip -d text -o 58486_ruby_68458.zip\n",
    "!rm -f 58486_ruby_68458.zip\n",
    "# !brew link coreutils"
   ]
  },
  {
   "cell_type": "code",
   "execution_count": 12,
   "metadata": {},
   "outputs": [],
   "source": [
    "import re\n",
    "\n",
    "input_fn = 'text/kageotoko.txt'\n",
    "output_fn = 'text/kageotoko.stripruby.txt'\n",
    "\n",
    "with open(input_fn, encoding='shift-jis') as fin, open(output_fn, mode='w') as fout:\n",
    "    for line in fin:\n",
    "        fout.write(re.sub(r'《[^》]+》|［[^］]+］', '', line))"
   ]
  },
  {
   "cell_type": "code",
   "execution_count": 13,
   "metadata": {},
   "outputs": [
    {
     "name": "stdout",
     "output_type": "stream",
     "text": [
      "text/kageotoko.stripruby.txt\n"
     ]
    }
   ],
   "source": [
    "print(output_fn)"
   ]
  },
  {
   "cell_type": "code",
   "execution_count": 14,
   "metadata": {},
   "outputs": [],
   "source": [
    "# !tail -n +18 text/kageotoko.stripruby.txt | head -n -14 > text/kageotoko.corpus.txt\n",
    "# !head text/kageotoko.corpus.txt\n",
    "!sed '1,17d' text/kageotoko.stripruby.txt | tail -r | sed '1,14d' | tail -r > text/kageotoko.corpus.txt"
   ]
  },
  {
   "cell_type": "code",
   "execution_count": 15,
   "metadata": {},
   "outputs": [
    {
     "name": "stdout",
     "output_type": "stream",
     "text": [
      "さて\n",
      "、\n",
      "私\n",
      "が\n",
      "今夜\n",
      "いただく\n",
      "の\n",
      "は\n",
      "、\n",
      "お前\n",
      "の\n",
      "魂\n",
      "です\n",
      "。\n"
     ]
    }
   ],
   "source": [
    "import sys\n",
    "sys.path.append('/Users/ruinz/.pyenv/versions/3.9.5/lib/python3.9/site-packages')\n",
    "import spacy \n",
    "\n",
    "nlp = spacy.load(\"ja_ginza\")\n",
    "text = \"さて、私が今夜いただくのは、お前の魂です。\"\n",
    "doc = nlp(text)\n",
    "for token in doc:\n",
    "  print(token)"
   ]
  },
  {
   "cell_type": "code",
   "execution_count": 16,
   "metadata": {},
   "outputs": [
    {
     "name": "stdout",
     "output_type": "stream",
     "text": [
      "昨日\t昨日\tNOUN\t名詞-普通名詞-副詞可能\n",
      "の\tの\tADP\t助詞-格助詞\n",
      "天気\t天気\tNOUN\t名詞-普通名詞-一般\n",
      "は\tは\tADP\t助詞-係助詞\n",
      "雨\t雨\tNOUN\t名詞-普通名詞-一般\n",
      "でし\tです\tAUX\t助動詞\n",
      "た\tた\tAUX\t助動詞\n",
      "。\t。\tPUNCT\t補助記号-句点\n",
      "晴れ\t晴れる\tVERB\t動詞-一般\n",
      "て\tて\tSCONJ\t助詞-接続助詞\n",
      "ほしかっ\tほしい\tAUX\t形容詞-非自立可能\n",
      "た\tた\tAUX\t助動詞\n",
      "。\t。\tPUNCT\t補助記号-句点\n"
     ]
    }
   ],
   "source": [
    "text = \"昨日の天気は雨でした。晴れてほしかった。\"\n",
    "doc = nlp(text)\n",
    "\n",
    "for token in doc:\n",
    "    print(f\"{token.text}\\t{token.lemma_}\\t{token.pos_}\\t{token.tag_}\")\n",
    "\n",
    "#分割された単語には，出現形(text)，原形(lemma)，品詞(tag)が属性として付与される1．\n"
   ]
  },
  {
   "cell_type": "code",
   "execution_count": 17,
   "metadata": {},
   "outputs": [
    {
     "name": "stdout",
     "output_type": "stream",
     "text": [
      "断末魔 の 雄 獅子\n",
      "\n",
      "　 三十二 、 三 歳 に 見える やせ型 の 男 が 、 張 ホテル の 玄関 を はいっ て 、 カウンター の うしろ の 支配人 室 へ 踏みこん で いっ た 。\n",
      "　 ずんぐり と 背 が 低く て 丸々 と 太っ た ちょびひげ の 支配人 が デスク に 向かっ て 帳簿 を いじくっ て い た 。 そば の 灰 ざら に のせ た 半分 ほど に なっ た 葉巻き から 、 細い 紫色 の 煙 が ほとんど まっすぐ に 立ちのぼっ て い た 。 ハバナ の かおり が 何 か 猥 ※ な 感じ で 漂っ て い た 。\n",
      "「 来 て いる ね ？ 」\n",
      "　 やせ型 の 男 が ニヤッ と 笑っ て たずね た 。\n",
      "「 うん 、 来 て いる 。 もう 始まっ て いる ころ だ よ 」\n",
      "「 じゃあ 、 あの へや へ 行く よ 」\n",
      "「 いい とも 、 見つかり っこ は ない が 、 せいぜい 用心 し て ね 」\n",
      "　 やせ型 の 男 は ネズミ色 の セビロ を 着 て 、 ネズミ色 の ワイシャツ 、 ネズミ色 の ネクタイ 、 くつ まで ネズミ色 の もの を はい て い た 。 どんな 背景 の 前 で も 最も 目だた ない 服装 で あっ た 。 かれ は まったく 足音 を たて ない で 階段 を 駆け上がり 、 二 階 の ずっと 奥まっ た 一室 の ドア を そっと ひらい て 、 中 に すべりこむ と 、 電灯 も つけ ず 、 一方 の 壁 に ある 押し入れ の 戸 を 用意 の カギ で ひらき 、 その 中 へ 身 を 隠し た 。\n"
     ]
    }
   ],
   "source": [
    "input_fn = 'text/kageotoko.corpus.txt'\n",
    "output_fn = 'text/kageotoko.wakati.txt'\n",
    "\n",
    "with open(input_fn, 'r') as fin, open(output_fn, 'w') as fout:\n",
    "    for line in fin:\n",
    "        tokens = [token.text for token in nlp(line.rstrip())]\n",
    "        fout.write(' '.join(tokens)+'\\n')\n",
    "\n",
    "!head text/kageotoko.wakati.txt\n",
    "\n",
    "\n"
   ]
  },
  {
   "cell_type": "markdown",
   "metadata": {},
   "source": [
    "## 単語の出現頻度を数えてみよう．活用する語の活用形を別々に数えるのではなく，原形で集計する．"
   ]
  },
  {
   "cell_type": "code",
   "execution_count": 18,
   "metadata": {},
   "outputs": [],
   "source": [
    "from collections import Counter\n",
    "\n",
    "include_pos = ('NOUN', 'VERB', 'ADJ')\n",
    "stopwords = ('する', 'ある', 'ない', 'いう', 'もの', 'こと', 'よう', 'なる', 'ほう')"
   ]
  },
  {
   "cell_type": "code",
   "execution_count": 26,
   "metadata": {},
   "outputs": [
    {
     "name": "stdout",
     "output_type": "stream",
     "text": [
      "156052\n"
     ]
    }
   ],
   "source": [
    "with open(input_fn, 'r') as f:\n",
    "    text = f.read()\n",
    "\n",
    "print(len(text))\n",
    "text = text[:10000]"
   ]
  },
  {
   "cell_type": "code",
   "execution_count": 27,
   "metadata": {},
   "outputs": [
    {
     "name": "stdout",
     "output_type": "stream",
     "text": [
      "count word\n",
      "   90 いる\n",
      "   46 \n",
      "　\n",
      "   32 男\n",
      "   19 人間\n",
      "   16 シャツ\n",
      "   16 探求\n",
      "   15 中\n",
      "   13 獅子\n",
      "   13 持つ\n",
      "   12 色\n"
     ]
    }
   ],
   "source": [
    "\n",
    "\n",
    "doc = nlp(text)\n",
    "counter = Counter(token.lemma_ for token in doc\n",
    "                  if token.pos_ in include_pos and token.lemma_ not in stopwords)\n",
    "\n",
    "print('count word')\n",
    "for word, count in counter.most_common(10):\n",
    "     print(f'{count:>5} {word}')"
   ]
  },
  {
   "cell_type": "code",
   "execution_count": null,
   "metadata": {},
   "outputs": [],
   "source": []
  },
  {
   "cell_type": "code",
   "execution_count": null,
   "metadata": {},
   "outputs": [],
   "source": []
  },
  {
   "cell_type": "code",
   "execution_count": null,
   "metadata": {},
   "outputs": [],
   "source": []
  },
  {
   "cell_type": "code",
   "execution_count": null,
   "metadata": {},
   "outputs": [],
   "source": []
  },
  {
   "cell_type": "code",
   "execution_count": null,
   "metadata": {},
   "outputs": [],
   "source": []
  },
  {
   "cell_type": "code",
   "execution_count": null,
   "metadata": {},
   "outputs": [],
   "source": []
  }
 ],
 "metadata": {
  "kernelspec": {
   "display_name": "Python 3.9.10 64-bit",
   "name": "python3910jvsc74a57bd0ac2eaa0ea0ebeafcc7822e65e46aa9d4f966f30b695406963e145ea4a91cd4fc"
  },
  "language_info": {
   "codemirror_mode": {
    "name": "ipython",
    "version": 3
   },
   "file_extension": ".py",
   "mimetype": "text/x-python",
   "name": "python",
   "nbconvert_exporter": "python",
   "pygments_lexer": "ipython3",
   "version": "3.9.10"
  },
  "metadata": {
   "interpreter": {
    "hash": "ac2eaa0ea0ebeafcc7822e65e46aa9d4f966f30b695406963e145ea4a91cd4fc"
   }
  },
  "orig_nbformat": 2
 },
 "nbformat": 4,
 "nbformat_minor": 2
}