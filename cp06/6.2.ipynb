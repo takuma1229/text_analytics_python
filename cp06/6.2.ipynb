{
 "cells": [
  {
   "cell_type": "code",
   "execution_count": 117,
   "metadata": {},
   "outputs": [],
   "source": [
    "# !wget -O miyajima_sample.csv \"https://github.com/tksakaki/kspub_ds_text_analytics/tree/main/Chapter06/text/miyajima_sample.csv\""
   ]
  },
  {
   "cell_type": "code",
   "execution_count": 118,
   "metadata": {},
   "outputs": [
    {
     "name": "stdout",
     "output_type": "stream",
     "text": [
      "count word\n",
      "  209 宮島\n",
      "  133 行く\n",
      "   96 食べる\n",
      "   84 もみじ\n",
      "   77 思う\n",
      "   74 厳島神社\n",
      "   66 牡蠣\n",
      "   52 水族館\n",
      "   52 鹿\n",
      "   48 お店\n"
     ]
    }
   ],
   "source": [
    "from collections import Counter\n",
    "import sys\n",
    "sys.path.append(\"/Users/ruinz/.pyenv/versions/3.9.5/lib/python3.9/site-packages\")\n",
    "import spacy\n",
    "import pandas as pd\n",
    "\n",
    "# 使用する単語の品詞とストップワードの指定\n",
    "include_pos = ('NOUN', 'PROPN', 'VERB', 'ADJ')\n",
    "stopwords = ('する', 'ある', 'ない', 'いう', 'もの', 'こと', 'よう',\n",
    "             'なる', 'ほう', 'いる', 'くる', 'お', 'できる')\n",
    "\n",
    "# 口コミデータの読み込み\n",
    "df = pd.read_csv('./miyajima_sample.csv', encoding='utf-8',\n",
    "                 parse_dates=['旅行の時期'])\n",
    "\n",
    "# 口コミに含まれている空行を削除\n",
    "df['口コミ'] = df['口コミ'].replace('\\n+', '\\n', regex=True)\n",
    "\n",
    "nlp = spacy.load('ja_ginza')\n",
    "\n",
    "# 出現する単語をリストに追加\n",
    "words = []\n",
    "for doc in nlp.pipe(df['口コミ'] ):\n",
    "    words.extend([token.lemma_ for token in doc\n",
    "                  if token.pos_ in include_pos and\n",
    "                  token.lemma_ not in stopwords])\n",
    "\n",
    "# 単語の頻度をカウント\n",
    "counter = Counter(words)\n",
    "\n",
    "print('count word')\n",
    "for word, count in counter.most_common(10):\n",
    "    print(f'{count:>5} {word}')"
   ]
  },
  {
   "cell_type": "code",
   "execution_count": 119,
   "metadata": {},
   "outputs": [
    {
     "name": "stdout",
     "output_type": "stream",
     "text": [
      "口コミの件数 176\n",
      "口コミの平均文字数 174.9\n"
     ]
    }
   ],
   "source": [
    "# 口コミの件数を算出　\n",
    "count = len(df)\n",
    "print('口コミの件数', count)\n",
    "\n",
    "# 口コミの平均文字数を算出\n",
    "word_count = 0\n",
    "for review in df['口コミ']:\n",
    "    word_count += len(review)\n",
    "\n",
    "ave = word_count / count\n",
    "print('口コミの平均文字数', round(ave, 1))"
   ]
  },
  {
   "cell_type": "code",
   "execution_count": 120,
   "metadata": {},
   "outputs": [
    {
     "data": {
      "text/html": "<div>\n<style scoped>\n    .dataframe tbody tr th:only-of-type {\n        vertical-align: middle;\n    }\n\n    .dataframe tbody tr th {\n        vertical-align: top;\n    }\n\n    .dataframe thead th {\n        text-align: right;\n    }\n</style>\n<table border=\"1\" class=\"dataframe\">\n  <thead>\n    <tr style=\"text-align: right;\">\n      <th></th>\n      <th>居住地</th>\n      <th>年代</th>\n      <th>性別</th>\n      <th>旅行の時期</th>\n      <th>同行者</th>\n      <th>評価</th>\n      <th>タイトル</th>\n      <th>口コミ</th>\n    </tr>\n  </thead>\n  <tbody>\n    <tr>\n      <th>0</th>\n      <td>広島</td>\n      <td>50代</td>\n      <td>男性</td>\n      <td>2021-10-01</td>\n      <td>家族</td>\n      <td>とても良い</td>\n      <td>まあきてみんさい</td>\n      <td>自然の景色　雅な社殿　ときめきいっぱいの商店街　海のにおい　いいよお</td>\n    </tr>\n    <tr>\n      <th>1</th>\n      <td>広島</td>\n      <td>30代</td>\n      <td>女性</td>\n      <td>2021-10-01</td>\n      <td>友達</td>\n      <td>とても良い</td>\n      <td>魅力満載のワンダーアイランドです！</td>\n      <td>パワースポットでもある厳島神社を参拝したり、牡蠣やもみじ饅頭、穴子飯をはじめとしたグルメは有...</td>\n    </tr>\n    <tr>\n      <th>2</th>\n      <td>広島</td>\n      <td>30代</td>\n      <td>女性</td>\n      <td>2021-10-01</td>\n      <td>家族</td>\n      <td>とても良い</td>\n      <td>宮島グルメ</td>\n      <td>宮島のグルメを楽しむために母と訪問しました。昼食は、牡蠣屋という牡蠣料理専門店で牡蠣屋定食を...</td>\n    </tr>\n    <tr>\n      <th>3</th>\n      <td>広島</td>\n      <td>10代</td>\n      <td>男性</td>\n      <td>2021-10-01</td>\n      <td>カップル・夫婦</td>\n      <td>とても良い</td>\n      <td>牡蠣の聖地</td>\n      <td>牡蠣好きには堪らないです！！</td>\n    </tr>\n    <tr>\n      <th>4</th>\n      <td>広島</td>\n      <td>20代</td>\n      <td>女性</td>\n      <td>2021-10-01</td>\n      <td>友達</td>\n      <td>とても良い</td>\n      <td>宮島観光</td>\n      <td>試験の帰りに宮島へ寄りました。フェリーから降りてすぐに昼食をとろうとなり、商店街を歩きました...</td>\n    </tr>\n    <tr>\n      <th>...</th>\n      <td>...</td>\n      <td>...</td>\n      <td>...</td>\n      <td>...</td>\n      <td>...</td>\n      <td>...</td>\n      <td>...</td>\n      <td>...</td>\n    </tr>\n    <tr>\n      <th>171</th>\n      <td>愛媛</td>\n      <td>50代</td>\n      <td>男性</td>\n      <td>2008-08-01</td>\n      <td>ビジネス</td>\n      <td>とても良い</td>\n      <td>街並み</td>\n      <td>観光気分を味わえる。街並みが綺麗である。</td>\n    </tr>\n    <tr>\n      <th>172</th>\n      <td>広島</td>\n      <td>50代</td>\n      <td>男性</td>\n      <td>2007-09-01</td>\n      <td>家族</td>\n      <td>とても良い</td>\n      <td>宮島へ</td>\n      <td>広島で働くことが決まったので、家族で広島を見学に来ました。せっかくなので、観光地の宮島へ行き...</td>\n    </tr>\n    <tr>\n      <th>173</th>\n      <td>広島</td>\n      <td>10代</td>\n      <td>男性</td>\n      <td>2003-12-01</td>\n      <td>家族</td>\n      <td>普通</td>\n      <td>可もなく不可もなく</td>\n      <td>幼い頃に行くのは楽しいが大学生、社会人になるにつれ行く意欲が湧かない</td>\n    </tr>\n    <tr>\n      <th>174</th>\n      <td>広島</td>\n      <td>10代</td>\n      <td>男性</td>\n      <td>2001-12-01</td>\n      <td>カップル・夫婦</td>\n      <td>とても良い</td>\n      <td>宮島はとてもいい場所！！！！</td>\n      <td>シカが可愛かった❤</td>\n    </tr>\n    <tr>\n      <th>175</th>\n      <td>広島</td>\n      <td>20代</td>\n      <td>男性</td>\n      <td>2000-09-01</td>\n      <td>友達</td>\n      <td>とても良い</td>\n      <td>8年ぶりの宮島</td>\n      <td>宮島は食べ歩きのイメージが強い観光地だったのですが、イメージ通り食べ歩きができる飲食店ばかり...</td>\n    </tr>\n  </tbody>\n</table>\n<p>176 rows × 8 columns</p>\n</div>",
      "text/plain": "    居住地   年代  性別      旅行の時期      同行者     評価               タイトル  \\\n0    広島  50代  男性 2021-10-01       家族  とても良い           まあきてみんさい   \n1    広島  30代  女性 2021-10-01       友達  とても良い  魅力満載のワンダーアイランドです！   \n2    広島  30代  女性 2021-10-01       家族  とても良い              宮島グルメ   \n3    広島  10代  男性 2021-10-01  カップル・夫婦  とても良い              牡蠣の聖地   \n4    広島  20代  女性 2021-10-01       友達  とても良い               宮島観光   \n..   ..  ...  ..        ...      ...    ...                ...   \n171  愛媛  50代  男性 2008-08-01     ビジネス  とても良い                街並み   \n172  広島  50代  男性 2007-09-01       家族  とても良い                宮島へ   \n173  広島  10代  男性 2003-12-01       家族     普通          可もなく不可もなく   \n174  広島  10代  男性 2001-12-01  カップル・夫婦  とても良い     宮島はとてもいい場所！！！！   \n175  広島  20代  男性 2000-09-01       友達  とても良い            8年ぶりの宮島   \n\n                                                   口コミ  \n0                   自然の景色　雅な社殿　ときめきいっぱいの商店街　海のにおい　いいよお  \n1    パワースポットでもある厳島神社を参拝したり、牡蠣やもみじ饅頭、穴子飯をはじめとしたグルメは有...  \n2    宮島のグルメを楽しむために母と訪問しました。昼食は、牡蠣屋という牡蠣料理専門店で牡蠣屋定食を...  \n3                                       牡蠣好きには堪らないです！！  \n4    試験の帰りに宮島へ寄りました。フェリーから降りてすぐに昼食をとろうとなり、商店街を歩きました...  \n..                                                 ...  \n171                               観光気分を味わえる。街並みが綺麗である。  \n172  広島で働くことが決まったので、家族で広島を見学に来ました。せっかくなので、観光地の宮島へ行き...  \n173                 幼い頃に行くのは楽しいが大学生、社会人になるにつれ行く意欲が湧かない  \n174                                          シカが可愛かった❤  \n175  宮島は食べ歩きのイメージが強い観光地だったのですが、イメージ通り食べ歩きができる飲食店ばかり...  \n\n[176 rows x 8 columns]"
     },
     "execution_count": 120,
     "metadata": {},
     "output_type": "execute_result"
    }
   ],
   "source": [
    "df"
   ]
  },
  {
   "cell_type": "markdown",
   "metadata": {},
   "source": [
    "## 口コミの共起ネットワーク"
   ]
  },
  {
   "cell_type": "code",
   "execution_count": 121,
   "metadata": {},
   "outputs": [],
   "source": [
    "# analyze_cooccurrency_miyajima.py\n",
    "\n",
    "\n",
    "# 使用する単語の品詞とストップワードの指定\n",
    "include_pos = ('NOUN', 'PROPN', 'VERB', 'ADJ')\n",
    "stopwords = ('する', 'ある', 'ない', 'いう', 'もの', 'こと', 'よう',\n",
    "             'なる', 'ほう', 'いる', 'くる', 'お', 'つ', 'おる', 'とき', 'しまう',\n",
    "             'いく', 'みる', 'ため', 'ところ', '際', '他', '時', '中', '方', '目', \n",
    "             '回', '年', '点', '前', '後', '思う', '行く')\n",
    "\n"
   ]
  },
  {
   "cell_type": "code",
   "execution_count": 122,
   "metadata": {},
   "outputs": [],
   "source": [
    "def extract_words(sent, pos_tags, stopwords):\n",
    "    words = [token.lemma_ for token in sent\n",
    "             if token.pos_ in pos_tags and token.lemma_ not in stopwords]\n",
    "    return words"
   ]
  },
  {
   "cell_type": "code",
   "execution_count": 123,
   "metadata": {},
   "outputs": [],
   "source": [
    "from sklearn.feature_extraction.text import CountVectorizer\n",
    "import numpy as np\n",
    "\n",
    "def count_cooccurrence(sents, token_length='{2,}'):\n",
    "    token_pattern=f'\\\\b\\\\w{token_length}\\\\b'\n",
    "    count_model = CountVectorizer(token_pattern=token_pattern)\n",
    "\n",
    "    X = count_model.fit_transform(sents)\n",
    "    words = count_model.get_feature_names_out()\n",
    "    word_counts = np.asarray(X.sum(axis=0)).reshape(-1)\n",
    "\n",
    "    X[X > 0] = 1\n",
    "    Xc = (X.T * X) \n",
    "    return words, word_counts, Xc, X"
   ]
  },
  {
   "cell_type": "code",
   "execution_count": 124,
   "metadata": {},
   "outputs": [],
   "source": [
    "def word_weights(words, word_counts):\n",
    "    count_max = word_counts.max()\n",
    "    weights = [(word, {'weight': count / count_max})\n",
    "               for word, count in zip(words, word_counts)]\n",
    "    return weights\n",
    "\n",
    "def cooccurrence_weights(words, Xc, weight_cutoff):\n",
    "    Xc_max = Xc.max()\n",
    "    cutoff = weight_cutoff * Xc_max\n",
    "    weights = [(words[i], words[j], Xc[i,j] / Xc_max)\n",
    "               for i, j in zip(*Xc.nonzero()) if i < j and Xc[i,j] > cutoff]\n",
    "    return weights"
   ]
  },
  {
   "cell_type": "code",
   "execution_count": 125,
   "metadata": {},
   "outputs": [],
   "source": [
    "import networkx as nx\n",
    "from pyvis.network import Network\n",
    "import matplotlib.pyplot as plt\n",
    "import japanize_matplotlib\n",
    "\n",
    "def create_network(words, word_counts, Xc, weight_cutoff):\n",
    "    G = nx.Graph()\n",
    "    \n",
    "    weights_w = word_weights(words, word_counts)\n",
    "    G.add_nodes_from(weights_w)\n",
    "    \n",
    "    weights_c = cooccurrence_weights(words, Xc, weight_cutoff)\n",
    "    G.add_weighted_edges_from(weights_c)\n",
    "    \n",
    "    G.remove_nodes_from(list(nx.isolates(G)))\n",
    "    return G\n",
    "\n",
    "def pyplot_network(G):\n",
    "    plt.figure(figsize=(10, 10))\n",
    "    pos = nx.spring_layout(G, k=0.1)\n",
    "\n",
    "    weights_n = np.array(list(nx.get_node_attributes(G, 'weight').values()))\n",
    "    nx.draw_networkx_nodes(G, pos, node_size=300 * weights_n)\n",
    "        \n",
    "    weights_e = np.array(list(nx.get_edge_attributes(G, 'weight').values()))\n",
    "    nx.draw_networkx_edges(G, pos, width=20 * weights_e)\n",
    "    \n",
    "    nx.draw_networkx_labels(G, pos, font_family='IPAexGothic')\n",
    "\n",
    "    plt.axis(\"off\")\n",
    "    plt.show()\n",
    "\n",
    "def nx2pyvis_G(G):\n",
    "    pyvis_G = Network(width='800px', height='800px', notebook=True)\n",
    "    for node, attrs in G.nodes(data=True):\n",
    "        pyvis_G.add_node(node, title=node, size=30 * attrs['weight'])\n",
    "    for node1, node2, attrs in G.edges(data=True):\n",
    "        pyvis_G.add_edge(node1, node2, width=20 * attrs['weight'])\n",
    "    return pyvis_G"
   ]
  },
  {
   "cell_type": "code",
   "execution_count": 126,
   "metadata": {},
   "outputs": [],
   "source": [
    "# 口コミを解析し共起を算出 \n",
    "sents = []\n",
    "for doc in nlp.pipe(df['口コミ']):\n",
    "    sents.extend([' '.join(extract_words(sent, include_pos, stopwords))\n",
    "                  for sent in doc.sents])\n",
    "\n",
    "words, word_counts, Xc, X = count_cooccurrence(sents, token_length='{1,}')"
   ]
  },
  {
   "cell_type": "code",
   "execution_count": 127,
   "metadata": {},
   "outputs": [
    {
     "data": {
      "image/png": "[encoded data removed]",
      "text/plain": "<Figure size 720x720 with 1 Axes>"
     },
     "metadata": {},
     "output_type": "display_data"
    },
    {
     "data": {
      "text/html": "\n        <iframe\n            width=\"800px\"\n            height=\"800px\"\n            src=\"mygraph_miyajima.html\"\n            frameborder=\"0\"\n            allowfullscreen\n            \n        ></iframe>\n        ",
      "text/plain": "<IPython.lib.display.IFrame at 0x1579bddf0>"
     },
     "execution_count": 127,
     "metadata": {},
     "output_type": "execute_result"
    }
   ],
   "source": [
    "#　ネットワークの生成\n",
    "sents = []\n",
    "G = create_network(words, word_counts, Xc, 0.015)\n",
    "\n",
    "#静的ネットワークの描画\n",
    "pyplot_network(G)\n",
    "\n",
    "#動的ネットワークの描画\n",
    "pyvis_G = nx2pyvis_G(G)\n",
    "pyvis_G.show('mygraph_miyajima.html')\n"
   ]
  },
  {
   "cell_type": "code",
   "execution_count": 128,
   "metadata": {},
   "outputs": [
    {
     "name": "stdout",
     "output_type": "stream",
     "text": [
      "year review\n",
      "2021 鳥居を見ましたが、改修工事をしていたため全貌を見れず残念でした。\n",
      "2020 厳島神社の大鳥居が改装中で幕に覆われていたのは残念でしたが、その分、秋の行楽シーズンにしては空いていて本社拝殿をじっくり歩くことができました。\n",
      "2020 大鳥居が見えないのは残念ですが、夜は、保存修理中の大鳥居がライトアップされて金色に輝き、これはこれで貴重な景色だと思います。\n",
      "2019 ただ、観光のメインである大鳥居が修繕中だったのが残念でした。\n",
      "2019 鳥居が工事中で、記念撮影をしたかったですが、残念でした。\n",
      "2019 当時、厳島神社の大鳥居が工事中で残念でしたが、宮島花火大会名物の水上花火は圧巻の美しさでした。\n",
      "2019 友人は楽しんでいましたが、やはり目玉の鳥居を見ることができなかったのは残念です。\n",
      "2019 鳥居をメインに見に来ましたが干潮の時刻を過ぎていたため鳥居の真下までは行けなかったのと曇りだったのが少し残念でした。\n"
     ]
    }
   ],
   "source": [
    "import re\n",
    "\n",
    "# 「鳥居」と「残念」という単語が含まれている口コミを表示\n",
    "print('year', 'review')\n",
    "for doc in nlp.pipe(df['口コミ']):\n",
    "    for sent in doc.sents:\n",
    "        sent = sent.text\n",
    "        if re.search('鳥居', sent) and re.search('残念', sent):\n",
    "            date = df[df['口コミ'] == doc.text]['旅行の時期']\n",
    "            date = date.iloc[-1]\n",
    "            sent = re.sub('\\n', '', sent)\n",
    "            print(date.year, sent)"
   ]
  },
  {
   "cell_type": "code",
   "execution_count": 129,
   "metadata": {},
   "outputs": [],
   "source": [
    "# for doc in nlp.pipe(df['口コミ']):\n",
    "#     print(\"0000000000000000000000000000000000000\")\n",
    "#     for sent in doc.sents:  \n",
    "#       print(sent)\n",
    "#       print(\"=====================\")\n",
    "        "
   ]
  },
  {
   "cell_type": "markdown",
   "metadata": {},
   "source": [
    "## 宮島の食に関する分析"
   ]
  },
  {
   "cell_type": "code",
   "execution_count": 130,
   "metadata": {},
   "outputs": [
    {
     "name": "stdout",
     "output_type": "stream",
     "text": [
      "宇都宮 Province\n",
      "餃子 Dish\n"
     ]
    },
    {
     "data": {
      "text/html": "<span class=\"tex2jax_ignore\"><div class=\"entities\" style=\"line-height: 2.5; direction: ltr\">\n<mark class=\"entity\" style=\"background: #ddd; padding: 0.45em 0.6em; margin: 0 0.25em; line-height: 1; border-radius: 0.35em;\">\n    宇都宮\n    <span style=\"font-size: 0.8em; font-weight: bold; line-height: 1; border-radius: 0.35em; vertical-align: middle; margin-left: 0.5rem\">Province</span>\n</mark>\nにきたのに\n<mark class=\"entity\" style=\"background: #ddd; padding: 0.45em 0.6em; margin: 0 0.25em; line-height: 1; border-radius: 0.35em;\">\n    餃子\n    <span style=\"font-size: 0.8em; font-weight: bold; line-height: 1; border-radius: 0.35em; vertical-align: middle; margin-left: 0.5rem\">Dish</span>\n</mark>\nも食べないの？</div></span>",
      "text/plain": "<IPython.core.display.HTML object>"
     },
     "metadata": {},
     "output_type": "display_data"
    }
   ],
   "source": [
    "# NER\n",
    "import spacy \n",
    "from spacy import displacy\n",
    "nlp = spacy.load('ja_ginza')\n",
    "\n",
    "text = \"宇都宮にきたのに餃子も食べないの？\"\n",
    "doc = nlp(text)\n",
    "\n",
    "#固有表現を抽出\n",
    "for ent in doc.ents:\n",
    "  print(ent.text, ent.label_)\n",
    "\n",
    "#固有表現の抽出結果を可視化\n",
    "displacy.render(doc, style=\"ent\")"
   ]
  },
  {
   "cell_type": "code",
   "execution_count": 131,
   "metadata": {},
   "outputs": [],
   "source": [
    "import pandas as pd\n",
    "from IPython.display import clear_output\n",
    "\n",
    "# 口コミデータの読み込み\n",
    "df = pd.read_csv('miyajima_sample.csv', encoding='utf-8', parse_dates=['旅行の時期'])\n",
    "\n",
    "# 固有表現抽出の結果を表示\n",
    "for doc in nlp.pipe(df['口コミ']):\n",
    "    # 固有表現を抽出\n",
    "    for ent in doc.ents:\n",
    "        print(ent.text, ent.label_)\n",
    "    # 固有表現の抽出結果を可視化\n",
    "    if doc.ents:\n",
    "        displacy.render(doc, style='ent')\n",
    "    print('='*80)\n",
    "\n",
    "clear_output()"
   ]
  },
  {
   "cell_type": "markdown",
   "metadata": {},
   "source": [
    "## NERモデルにいくつかの語を足す"
   ]
  },
  {
   "cell_type": "code",
   "execution_count": 132,
   "metadata": {},
   "outputs": [],
   "source": [
    "# do_ner3.py\n",
    "\n",
    "from spacy.pipeline import EntityRuler\n",
    "\n",
    "# 2. 固有表現抽出のルールを追加\n",
    "patterns = [\n",
    "    {'label': 'Dish', 'pattern': [\n",
    "        {'TEXT': 'あなご'},\n",
    "        {'TEXT': {'REGEX': r'飯|めし'}},\n",
    "    ]},\n",
    "    {'label': 'Dish', 'pattern': '揚げもみじ'},\n",
    "    {'label': 'Dish', 'pattern': 'ガンス'},\n",
    "    {'label': 'Dish', 'pattern': [\n",
    "        {'TEXT': 'にぎり'},\n",
    "        {'TEXT': '天'}\n",
    "    ]},\n",
    "    {'label': 'Dish', 'pattern': [\n",
    "        {'TEXT': 'もみじ'},\n",
    "        {'TEXT': '饅頭'}\n",
    "    ]}\n",
    "]\n",
    "\n",
    "# ruler = EntityRuler(nlp, overwrite_ents=True)\n",
    "ruler = nlp.add_pipe(\"entity_ruler\", before='ner')\n",
    "ruler.add_patterns(patterns)\n",
    "# nlp.add_pipe(ruler,  before='ner')"
   ]
  },
  {
   "cell_type": "code",
   "execution_count": 133,
   "metadata": {},
   "outputs": [],
   "source": [
    "# 3. 固有表現抽出の結果を表示\n",
    "for doc in nlp.pipe(df['口コミ']):\n",
    "    # 固有表現を抽出\n",
    "    for ent in doc.ents:\n",
    "        print(ent.text, ent.label_)\n",
    "    # 固有表現の抽出結果を可視化\n",
    "    if doc.ents:\n",
    "        spacy.displacy.render(doc, style='ent')\n",
    "    print('='*80)\n",
    "\n",
    "clear_output()"
   ]
  },
  {
   "cell_type": "code",
   "execution_count": null,
   "metadata": {},
   "outputs": [],
   "source": []
  },
  {
   "cell_type": "markdown",
   "metadata": {},
   "source": [
    "## NERのカウント関連"
   ]
  },
  {
   "cell_type": "code",
   "execution_count": 134,
   "metadata": {},
   "outputs": [],
   "source": [
    "# count_food1.py\n",
    "\n",
    "from collections import Counter\n",
    "\n",
    "import spacy\n",
    "from spacy.pipeline import EntityRuler\n",
    "import pandas as pd\n",
    "\n",
    "# 1. 口コミデータの読み込み\n",
    "# df = pd.read_csv('miyajima_sample.csv', encoding='utf-8',\n",
    "#                  parse_dates=['旅行の時期'])\n",
    "\n",
    "# nlp = spacy.load('ja_ginza')"
   ]
  },
  {
   "cell_type": "code",
   "execution_count": 135,
   "metadata": {},
   "outputs": [
    {
     "name": "stdout",
     "output_type": "stream",
     "text": [
      "count word\n",
      "   41 もみじ饅頭\n",
      "   27 揚げもみじ\n",
      "    6 焼き牡蠣\n",
      "    6 にぎり天\n",
      "    6 あなご飯\n",
      "    6 あなごめし\n",
      "    6 ガンス\n",
      "    6 穴子\n",
      "    4 アイスクリーム\n",
      "    4 コーヒー\n",
      "    4 お茶\n",
      "    3 穴子飯\n",
      "    3 牡蠣料理専門店\n",
      "    3 スタバ\n",
      "    3 饅頭\n",
      "    3 揚げ紅葉\n",
      "    2 サンドdeおにぎり\n",
      "    2 飯\n",
      "    2 穴子めし\n",
      "    2 チーズ\n",
      "    2 揚げ\n",
      "    2 ビール\n",
      "    2 クリーム\n",
      "    2 日本酒\n",
      "    1 カキフライ\n",
      "    1 牡蠣飯\n",
      "    1 牡蠣料理\n",
      "    1 カクテル\n",
      "    1 ジュース\n",
      "    1 おにぎり\n",
      "    1 博多屋\n",
      "    1 出来立て熱々\n",
      "    1 コッペパン\n",
      "    1 コーヒー豆\n",
      "    1 弁当\n",
      "    1 白湯\n",
      "    1 軽食\n",
      "    1 竹輪\n",
      "    1 地ビール\n",
      "    1 ステーキ\n",
      "    1 ケーキ\n",
      "    1 紅葉揚げ\n",
      "    1 アイス\n",
      "    1 じみ饅頭\n",
      "    1 顔はめ\n",
      "    1 穴子入り竹輪\n",
      "    1 お土産選び\n",
      "    1 スターバックス\n",
      "    1 抹茶ミルクティー\n",
      "    1 タピオカミルクティー\n",
      "    1 お好み焼き\n",
      "    1 揚げ紅葉うまい\n",
      "    1 揚げ天\n",
      "    1 揚げ紅葉饅頭\n",
      "    1 牡蠣のパスタ\n",
      "    1 カフェ\n",
      "    1 海鮮丼\n",
      "    1 カレーパン\n",
      "    1 アンパンマン\n",
      "    1 焼き立て\n",
      "    1 スターバックスコーヒー\n",
      "    1 ねぎたこ\n",
      "    1 プリップリの焼き牡蠣\n",
      "    1 焼きがき\n",
      "    1 醤油マヨ\n",
      "    1 牡蠣\n",
      "    1 桐葉菓\n",
      "    1 焼きがきのはやし\n",
      "    1 焼き\n",
      "    1 牡蠣の美味しさを知れ\n",
      "    1 鹿せんべい\n"
     ]
    }
   ],
   "source": [
    "# 3. 料理名をリストに追加\n",
    "food = []\n",
    "for doc in nlp.pipe(df['口コミ']):\n",
    "    # 料理名（Dishタグ）を抽出\n",
    "    for ent in doc.ents:\n",
    "        if ent.label_ == 'Dish':\n",
    "            food.append(ent.text)\n",
    "\n",
    "# 4. 料理名の頻度をカウント\n",
    "counter = Counter(food)\n",
    "\n",
    "# 5. 料理名の頻度を表示\n",
    "print('count word')\n",
    "for word, count in counter.most_common():\n",
    "    print(f'{count:>5} {word}')"
   ]
  },
  {
   "cell_type": "markdown",
   "metadata": {},
   "source": [
    "#### 表記揺れの同一カウント"
   ]
  },
  {
   "cell_type": "code",
   "execution_count": 137,
   "metadata": {},
   "outputs": [],
   "source": [
    "# 5. 表記ゆれを解消するための用語辞書を用意\n",
    "# 用語辞書のキーは代表語，値は表記ゆれの単語のリスト\n",
    "name2variants = {'あなご飯': ['穴子飯', 'あなごめし', '穴子めし'],\n",
    "                 '揚げもみじ': ['揚げ紅葉', '揚げ紅葉饅頭']}\n",
    "\n",
    "# 用語辞書を，表記揺れをチェックしやすい形式に変換\n",
    "variant2name = {}       # キーは表記ゆれの単語，値は代表語\n",
    "for name, variants in name2variants.items():\n",
    "    variant2name[name] = name\n",
    "    for variant in variants:\n",
    "        variant2name[variant] = name"
   ]
  },
  {
   "cell_type": "code",
   "execution_count": 138,
   "metadata": {},
   "outputs": [
    {
     "name": "stdout",
     "output_type": "stream",
     "text": [
      "count word\n",
      "   41 もみじ饅頭\n",
      "   31 揚げもみじ\n",
      "   17 あなご飯\n",
      "    6 焼き牡蠣\n",
      "    6 にぎり天\n",
      "    6 ガンス\n",
      "    6 穴子\n",
      "    4 アイスクリーム\n",
      "    4 コーヒー\n",
      "    4 お茶\n",
      "    3 牡蠣料理専門店\n",
      "    3 スタバ\n",
      "    3 饅頭\n",
      "    2 サンドdeおにぎり\n",
      "    2 飯\n",
      "    2 チーズ\n",
      "    2 揚げ\n",
      "    2 ビール\n",
      "    2 クリーム\n",
      "    2 日本酒\n",
      "    1 カキフライ\n",
      "    1 牡蠣飯\n",
      "    1 牡蠣料理\n",
      "    1 カクテル\n",
      "    1 ジュース\n",
      "    1 おにぎり\n",
      "    1 博多屋\n",
      "    1 出来立て熱々\n",
      "    1 コッペパン\n",
      "    1 コーヒー豆\n",
      "    1 弁当\n",
      "    1 白湯\n",
      "    1 軽食\n",
      "    1 竹輪\n",
      "    1 地ビール\n",
      "    1 ステーキ\n",
      "    1 ケーキ\n",
      "    1 紅葉揚げ\n",
      "    1 アイス\n",
      "    1 じみ饅頭\n",
      "    1 顔はめ\n",
      "    1 穴子入り竹輪\n",
      "    1 お土産選び\n",
      "    1 スターバックス\n",
      "    1 抹茶ミルクティー\n",
      "    1 タピオカミルクティー\n",
      "    1 お好み焼き\n",
      "    1 揚げ紅葉うまい\n",
      "    1 揚げ天\n",
      "    1 牡蠣のパスタ\n",
      "    1 カフェ\n",
      "    1 海鮮丼\n",
      "    1 カレーパン\n",
      "    1 アンパンマン\n",
      "    1 焼き立て\n",
      "    1 スターバックスコーヒー\n",
      "    1 ねぎたこ\n",
      "    1 プリップリの焼き牡蠣\n",
      "    1 焼きがき\n",
      "    1 醤油マヨ\n",
      "    1 牡蠣\n",
      "    1 桐葉菓\n",
      "    1 焼きがきのはやし\n",
      "    1 焼き\n",
      "    1 牡蠣の美味しさを知れ\n",
      "    1 鹿せんべい\n"
     ]
    }
   ],
   "source": [
    "# 6. 表記ゆれを解消して料理名の頻度をカウント\n",
    "counter2 = Counter()\n",
    "for word, count in counter.items():\n",
    "    name = variant2name.get(word, word)\n",
    "    counter2[name] += count\n",
    "\n",
    "# 7. 料理名の頻度を表示\n",
    "print('count word')\n",
    "for word, count in counter2.most_common():\n",
    "    print(f'{count:>5} {word}')"
   ]
  },
  {
   "cell_type": "code",
   "execution_count": 139,
   "metadata": {},
   "outputs": [
    {
     "name": "stdout",
     "output_type": "stream",
     "text": [
      "●　男性の場合\n",
      "count word\n",
      "   28 もみじ饅頭\n",
      "   15 揚げもみじ\n",
      "   10 あなご飯\n",
      "    6 穴子\n",
      "    3 焼き牡蠣\n",
      "    3 スタバ\n",
      "    3 饅頭\n",
      "    3 お茶\n",
      "    2 チーズ\n",
      "    2 牡蠣料理専門店\n",
      "    2 日本酒\n",
      "    1 白湯\n",
      "    1 コーヒー\n",
      "    1 ステーキ\n",
      "    1 ケーキ\n",
      "    1 紅葉揚げ\n",
      "    1 じみ饅頭\n",
      "    1 穴子入り竹輪\n",
      "    1 スターバックス\n",
      "    1 飯\n",
      "    1 お好み焼き\n",
      "    1 揚げ紅葉うまい\n",
      "    1 海鮮丼\n",
      "    1 にぎり天\n",
      "    1 クリーム\n",
      "    1 プリップリの焼き牡蠣\n",
      "    1 焼きがき\n",
      "    1 ビール\n",
      "    1 揚げ\n",
      "    1 醤油マヨ\n",
      "    1 牡蠣\n",
      "    1 桐葉菓\n",
      "    1 焼きがきのはやし\n",
      "    1 焼き\n",
      "    1 牡蠣の美味しさを知れ\n",
      "    1 鹿せんべい\n"
     ]
    }
   ],
   "source": [
    "# 「男性」の口コミに出現する料理名の頻度をカウント\n",
    "\n",
    "\n",
    "# 料理名をリストに追加\n",
    "food = []\n",
    "for doc in nlp.pipe(df[df['性別'] == '男性']['口コミ']):  # 男性の口コミに限定\n",
    "    # 料理名（Dishタグ）を抽出\n",
    "    for ent in doc.ents:\n",
    "        if ent.label_ == 'Dish':\n",
    "            food.append(ent.text)\n",
    "\n",
    "# 料理名の頻度をカウント\n",
    "counter = Counter(food)\n",
    "\n",
    "# 表記ゆれを解消して料理名の頻度をカウント\n",
    "counter2 = Counter()\n",
    "for word, count in counter.items():\n",
    "    name = variant2name.get(word, word)\n",
    "    counter2[name] += count\n",
    "\n",
    "# 料理名の頻度を表示\n",
    "print('●　男性の場合')\n",
    "print('count word')\n",
    "for word, count in counter2.most_common():\n",
    "    print(f'{count:>5} {word}')"
   ]
  },
  {
   "cell_type": "code",
   "execution_count": 140,
   "metadata": {},
   "outputs": [
    {
     "name": "stdout",
     "output_type": "stream",
     "text": [
      "●　女性の場合\n",
      "count word\n",
      "   16 揚げもみじ\n",
      "   13 もみじ饅頭\n",
      "    7 あなご飯\n",
      "    6 ガンス\n",
      "    5 にぎり天\n",
      "    4 アイスクリーム\n",
      "    3 焼き牡蠣\n",
      "    3 コーヒー\n",
      "    2 サンドdeおにぎり\n",
      "    1 牡蠣料理専門店\n",
      "    1 カキフライ\n",
      "    1 牡蠣飯\n",
      "    1 牡蠣料理\n",
      "    1 カクテル\n",
      "    1 ジュース\n",
      "    1 おにぎり\n",
      "    1 博多屋\n",
      "    1 出来立て熱々\n",
      "    1 コッペパン\n",
      "    1 コーヒー豆\n",
      "    1 飯\n",
      "    1 弁当\n",
      "    1 軽食\n",
      "    1 竹輪\n",
      "    1 地ビール\n",
      "    1 アイス\n",
      "    1 顔はめ\n",
      "    1 お土産選び\n",
      "    1 抹茶ミルクティー\n",
      "    1 タピオカミルクティー\n",
      "    1 揚げ\n",
      "    1 揚げ天\n",
      "    1 ビール\n",
      "    1 牡蠣のパスタ\n",
      "    1 カフェ\n",
      "    1 カレーパン\n",
      "    1 お茶\n",
      "    1 クリーム\n",
      "    1 アンパンマン\n",
      "    1 焼き立て\n",
      "    1 スターバックスコーヒー\n",
      "    1 ねぎたこ\n"
     ]
    }
   ],
   "source": [
    "# 「女性」の口コミに出現する料理名の頻度をカウント\n",
    "\n",
    "# 料理名をリストに追加\n",
    "food = []\n",
    "for doc in nlp.pipe(df[df['性別'] == '女性']['口コミ']):  # 女性の口コミに限定\n",
    "    # 料理名（Dishタグ）を抽出\n",
    "    for ent in doc.ents:\n",
    "        if ent.label_ == 'Dish':\n",
    "            food.append(ent.text)\n",
    "\n",
    "# 料理名の頻度をカウント\n",
    "counter = Counter(food)\n",
    "\n",
    "# 表記ゆれを解消して料理名の頻度をカウント\n",
    "counter2 = Counter()\n",
    "for word, count in counter.items():\n",
    "    name = variant2name.get(word, word)\n",
    "    counter2[name] += count\n",
    "\n",
    "# 料理名の頻度を表示\n",
    "print('●　女性の場合')\n",
    "print('count word')\n",
    "for word, count in counter2.most_common():\n",
    "    print(f'{count:>5} {word}')"
   ]
  },
  {
   "cell_type": "markdown",
   "metadata": {},
   "source": [
    "## アドバイスを抽出する"
   ]
  },
  {
   "cell_type": "code",
   "execution_count": 141,
   "metadata": {},
   "outputs": [
    {
     "name": "stdout",
     "output_type": "stream",
     "text": [
      "●　「した方がよい」が含まれる文を抽出した結果\n",
      "修理中でない大鳥居が見たい方は、修理の状況を確認した方がよいでしょう。\n",
      "時間によって厳島神社の景観が異なるため、満潮干潮の時間を調べてから訪問した方がよいと思います。\n",
      "\n",
      "\n",
      "●　「注意して」が含まれる文を抽出した結果\n",
      "あなご飯などの袋を目の届かない所に置いておくと鹿に食べられてしまうので注意してください。\n",
      "しかし、ゆうちょ銀行か広島銀行だけなので、他銀行の方は注意してください。\n",
      "\n",
      "最高のロケーションですが、鹿が寄って来るので食べられないよう注意して下さい。\n",
      "夜の厳島神社のライトアップは綺麗ですが、飲食店は閉まるのが17～18時ごろと早いため注意してください。\n",
      "シカに軽食や荷物をあさられたりすることだけ注意していれば、町の人はとてもやさしくて親しみやすいので、特に心配することもないと思います。\n",
      "宮島の鹿は人に慣れていて、一緒に写真を撮ることができますが、ポケットなどからも物を取られることがあるので、鹿が近くでは注意してください。\n",
      "宮島島内にはコンビニが一軒もないので注意してください。\n"
     ]
    }
   ],
   "source": [
    "# 「した方がよい」が含まれる文を抽出\n",
    "print('●　「した方がよい」が含まれる文を抽出した結果')\n",
    "for doc in nlp.pipe(df['口コミ']):\n",
    "    for sent in doc.sents:\n",
    "        sent = sent.text\n",
    "        if re.search('した方がよい', sent):\n",
    "            print(sent)\n",
    "print('\\n')\n",
    "\n",
    "# 「注意して」が含まれる文を抽出\n",
    "print('●　「注意して」が含まれる文を抽出した結果')\n",
    "for doc in nlp.pipe(df['口コミ']):\n",
    "    for sent in doc.sents:\n",
    "        sent = sent.text\n",
    "        if re.search('注意して', sent):\n",
    "            print(sent)"
   ]
  },
  {
   "cell_type": "code",
   "execution_count": null,
   "metadata": {},
   "outputs": [],
   "source": []
  },
  {
   "cell_type": "code",
   "execution_count": null,
   "metadata": {},
   "outputs": [],
   "source": []
  },
  {
   "cell_type": "code",
   "execution_count": null,
   "metadata": {},
   "outputs": [],
   "source": []
  },
  {
   "cell_type": "code",
   "execution_count": null,
   "metadata": {},
   "outputs": [],
   "source": []
  },
  {
   "cell_type": "code",
   "execution_count": null,
   "metadata": {},
   "outputs": [],
   "source": []
  },
  {
   "cell_type": "code",
   "execution_count": null,
   "metadata": {},
   "outputs": [],
   "source": []
  },
  {
   "cell_type": "code",
   "execution_count": null,
   "metadata": {},
   "outputs": [],
   "source": []
  },
  {
   "cell_type": "code",
   "execution_count": null,
   "metadata": {},
   "outputs": [],
   "source": []
  },
  {
   "cell_type": "code",
   "execution_count": null,
   "metadata": {},
   "outputs": [],
   "source": []
  },
  {
   "cell_type": "code",
   "execution_count": null,
   "metadata": {},
   "outputs": [],
   "source": []
  }
 ],
 "metadata": {
  "kernelspec": {
   "display_name": "Python 3.9.10 64-bit",
   "name": "python3910jvsc74a57bd0ac2eaa0ea0ebeafcc7822e65e46aa9d4f966f30b695406963e145ea4a91cd4fc"
  },
  "language_info": {
   "codemirror_mode": {
    "name": "ipython",
    "version": 3
   },
   "file_extension": ".py",
   "mimetype": "text/x-python",
   "name": "python",
   "nbconvert_exporter": "python",
   "pygments_lexer": "ipython3",
   "version": "3.9.10"
  },
  "metadata": {
   "interpreter": {
    "hash": "ac2eaa0ea0ebeafcc7822e65e46aa9d4f966f30b695406963e145ea4a91cd4fc"
   }
  },
  "orig_nbformat": 2
 },
 "nbformat": 4,
 "nbformat_minor": 2
}